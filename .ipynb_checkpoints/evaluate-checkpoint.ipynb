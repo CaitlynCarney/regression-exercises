{
 "cells": [
  {
   "cell_type": "markdown",
   "metadata": {},
   "source": [
    "- Do you work for this exercise in either a jupyter notebook named evaluate within your regression-exercises repository. By the end of this exercise you will also create a python script named evaluate, so the overall deliverables for this exercise are the python script and jupyter notebook both with the name evaluate within your regression-exercises repo."
   ]
  },
  {
   "cell_type": "code",
   "execution_count": 1,
   "metadata": {},
   "outputs": [],
   "source": [
    "import pandas as pd\n",
    "import numpy as np\n",
    "import matplotlib.pyplot as plt\n",
    "from scipy import stats\n",
    "from sklearn.metrics import mean_squared_error, r2_score, explained_variance_score, mean_absolute_error\n",
    "\n",
    "from sklearn.linear_model import LinearRegression\n",
    "from sklearn.feature_selection import f_regression \n",
    "\n",
    "\n",
    "from math import sqrt\n",
    "import seaborn as sns\n",
    "import warnings\n",
    "warnings.filterwarnings('ignore')\n",
    "\n",
    "from pydataset import data\n",
    "import evaluate\n",
    "import acquire"
   ]
  },
  {
   "cell_type": "markdown",
   "metadata": {},
   "source": [
    "1. Load the tips dataset from either pydataset or seaborn.\n",
    "\n"
   ]
  },
  {
   "cell_type": "code",
   "execution_count": 2,
   "metadata": {},
   "outputs": [],
   "source": [
    "tips = data(\"tips\")"
   ]
  },
  {
   "cell_type": "markdown",
   "metadata": {},
   "source": [
    "2. Fit a linear regression model (ordinary least squares) and compute yhat, predictions of tip using total_bill.\n",
    "- Here is some sample code to get you started:\n",
    "\n",
    "`from statsmodels.formula.api import ols`\n",
    "\n",
    "`model = ols('y ~ x', data=df).fit()`\n",
    "\n",
    "`predictions = model.predict(df.x)`\n",
    "\n",
    "The code above fits a linear regression model on the df dataset, using column y as the target and column x as the predictor. Modify the code as necessary to work with the tips dataset."
   ]
  },
  {
   "cell_type": "code",
   "execution_count": 3,
   "metadata": {},
   "outputs": [],
   "source": [
    "from statsmodels.formula.api import ols\n",
    "# OLS = oridinary least square\n",
    "\n",
    "model = ols('total_bill ~ tip', data=tips).fit()\n",
    "\n",
    "tips['yhat'] = model.predict(tips.tip)"
   ]
  },
  {
   "cell_type": "code",
   "execution_count": 4,
   "metadata": {},
   "outputs": [],
   "source": [
    "yhat = tips.yhat"
   ]
  },
  {
   "cell_type": "code",
   "execution_count": 5,
   "metadata": {},
   "outputs": [
    {
     "data": {
      "text/html": [
       "<div>\n",
       "<style scoped>\n",
       "    .dataframe tbody tr th:only-of-type {\n",
       "        vertical-align: middle;\n",
       "    }\n",
       "\n",
       "    .dataframe tbody tr th {\n",
       "        vertical-align: top;\n",
       "    }\n",
       "\n",
       "    .dataframe thead th {\n",
       "        text-align: right;\n",
       "    }\n",
       "</style>\n",
       "<table border=\"1\" class=\"dataframe\">\n",
       "  <thead>\n",
       "    <tr style=\"text-align: right;\">\n",
       "      <th></th>\n",
       "      <th>total_bill</th>\n",
       "      <th>tip</th>\n",
       "      <th>sex</th>\n",
       "      <th>smoker</th>\n",
       "      <th>day</th>\n",
       "      <th>time</th>\n",
       "      <th>size</th>\n",
       "      <th>yhat</th>\n",
       "    </tr>\n",
       "  </thead>\n",
       "  <tbody>\n",
       "    <tr>\n",
       "      <th>1</th>\n",
       "      <td>16.99</td>\n",
       "      <td>1.01</td>\n",
       "      <td>Female</td>\n",
       "      <td>No</td>\n",
       "      <td>Sun</td>\n",
       "      <td>Dinner</td>\n",
       "      <td>2</td>\n",
       "      <td>11.141475</td>\n",
       "    </tr>\n",
       "    <tr>\n",
       "      <th>2</th>\n",
       "      <td>10.34</td>\n",
       "      <td>1.66</td>\n",
       "      <td>Male</td>\n",
       "      <td>No</td>\n",
       "      <td>Sun</td>\n",
       "      <td>Dinner</td>\n",
       "      <td>3</td>\n",
       "      <td>13.967489</td>\n",
       "    </tr>\n",
       "    <tr>\n",
       "      <th>3</th>\n",
       "      <td>21.01</td>\n",
       "      <td>3.50</td>\n",
       "      <td>Male</td>\n",
       "      <td>No</td>\n",
       "      <td>Sun</td>\n",
       "      <td>Dinner</td>\n",
       "      <td>3</td>\n",
       "      <td>21.967283</td>\n",
       "    </tr>\n",
       "    <tr>\n",
       "      <th>4</th>\n",
       "      <td>23.68</td>\n",
       "      <td>3.31</td>\n",
       "      <td>Male</td>\n",
       "      <td>No</td>\n",
       "      <td>Sun</td>\n",
       "      <td>Dinner</td>\n",
       "      <td>2</td>\n",
       "      <td>21.141218</td>\n",
       "    </tr>\n",
       "    <tr>\n",
       "      <th>5</th>\n",
       "      <td>24.59</td>\n",
       "      <td>3.61</td>\n",
       "      <td>Female</td>\n",
       "      <td>No</td>\n",
       "      <td>Sun</td>\n",
       "      <td>Dinner</td>\n",
       "      <td>4</td>\n",
       "      <td>22.445532</td>\n",
       "    </tr>\n",
       "  </tbody>\n",
       "</table>\n",
       "</div>"
      ],
      "text/plain": [
       "   total_bill   tip     sex smoker  day    time  size       yhat\n",
       "1       16.99  1.01  Female     No  Sun  Dinner     2  11.141475\n",
       "2       10.34  1.66    Male     No  Sun  Dinner     3  13.967489\n",
       "3       21.01  3.50    Male     No  Sun  Dinner     3  21.967283\n",
       "4       23.68  3.31    Male     No  Sun  Dinner     2  21.141218\n",
       "5       24.59  3.61  Female     No  Sun  Dinner     4  22.445532"
      ]
     },
     "execution_count": 5,
     "metadata": {},
     "output_type": "execute_result"
    }
   ],
   "source": [
    "tips.head()"
   ]
  },
  {
   "cell_type": "code",
   "execution_count": 6,
   "metadata": {},
   "outputs": [
    {
     "data": {
      "text/plain": [
       "<matplotlib.collections.PathCollection at 0x7fa041880d00>"
      ]
     },
     "execution_count": 6,
     "metadata": {},
     "output_type": "execute_result"
    },
    {
     "data": {
      "image/png": "[encoded data removed]",
      "text/plain": [
       "<Figure size 432x288 with 1 Axes>"
      ]
     },
     "metadata": {
      "needs_background": "light"
     },
     "output_type": "display_data"
    }
   ],
   "source": [
    "plt.scatter(tips.tip, tips.total_bill)"
   ]
  },
  {
   "cell_type": "code",
   "execution_count": 7,
   "metadata": {},
   "outputs": [],
   "source": [
    "total_bill = tips.total_bill"
   ]
  },
  {
   "cell_type": "code",
   "execution_count": 8,
   "metadata": {},
   "outputs": [
    {
     "data": {
      "text/html": [
       "<div>\n",
       "<style scoped>\n",
       "    .dataframe tbody tr th:only-of-type {\n",
       "        vertical-align: middle;\n",
       "    }\n",
       "\n",
       "    .dataframe tbody tr th {\n",
       "        vertical-align: top;\n",
       "    }\n",
       "\n",
       "    .dataframe thead th {\n",
       "        text-align: right;\n",
       "    }\n",
       "</style>\n",
       "<table border=\"1\" class=\"dataframe\">\n",
       "  <thead>\n",
       "    <tr style=\"text-align: right;\">\n",
       "      <th></th>\n",
       "      <th>total_bill</th>\n",
       "      <th>tip</th>\n",
       "      <th>sex</th>\n",
       "      <th>smoker</th>\n",
       "      <th>day</th>\n",
       "      <th>time</th>\n",
       "      <th>size</th>\n",
       "      <th>yhat</th>\n",
       "      <th>baseline</th>\n",
       "    </tr>\n",
       "  </thead>\n",
       "  <tbody>\n",
       "    <tr>\n",
       "      <th>1</th>\n",
       "      <td>16.99</td>\n",
       "      <td>1.01</td>\n",
       "      <td>Female</td>\n",
       "      <td>No</td>\n",
       "      <td>Sun</td>\n",
       "      <td>Dinner</td>\n",
       "      <td>2</td>\n",
       "      <td>11.141475</td>\n",
       "      <td>19.785943</td>\n",
       "    </tr>\n",
       "    <tr>\n",
       "      <th>2</th>\n",
       "      <td>10.34</td>\n",
       "      <td>1.66</td>\n",
       "      <td>Male</td>\n",
       "      <td>No</td>\n",
       "      <td>Sun</td>\n",
       "      <td>Dinner</td>\n",
       "      <td>3</td>\n",
       "      <td>13.967489</td>\n",
       "      <td>19.785943</td>\n",
       "    </tr>\n",
       "    <tr>\n",
       "      <th>3</th>\n",
       "      <td>21.01</td>\n",
       "      <td>3.50</td>\n",
       "      <td>Male</td>\n",
       "      <td>No</td>\n",
       "      <td>Sun</td>\n",
       "      <td>Dinner</td>\n",
       "      <td>3</td>\n",
       "      <td>21.967283</td>\n",
       "      <td>19.785943</td>\n",
       "    </tr>\n",
       "    <tr>\n",
       "      <th>4</th>\n",
       "      <td>23.68</td>\n",
       "      <td>3.31</td>\n",
       "      <td>Male</td>\n",
       "      <td>No</td>\n",
       "      <td>Sun</td>\n",
       "      <td>Dinner</td>\n",
       "      <td>2</td>\n",
       "      <td>21.141218</td>\n",
       "      <td>19.785943</td>\n",
       "    </tr>\n",
       "    <tr>\n",
       "      <th>5</th>\n",
       "      <td>24.59</td>\n",
       "      <td>3.61</td>\n",
       "      <td>Female</td>\n",
       "      <td>No</td>\n",
       "      <td>Sun</td>\n",
       "      <td>Dinner</td>\n",
       "      <td>4</td>\n",
       "      <td>22.445532</td>\n",
       "      <td>19.785943</td>\n",
       "    </tr>\n",
       "  </tbody>\n",
       "</table>\n",
       "</div>"
      ],
      "text/plain": [
       "   total_bill   tip     sex smoker  day    time  size       yhat   baseline\n",
       "1       16.99  1.01  Female     No  Sun  Dinner     2  11.141475  19.785943\n",
       "2       10.34  1.66    Male     No  Sun  Dinner     3  13.967489  19.785943\n",
       "3       21.01  3.50    Male     No  Sun  Dinner     3  21.967283  19.785943\n",
       "4       23.68  3.31    Male     No  Sun  Dinner     2  21.141218  19.785943\n",
       "5       24.59  3.61  Female     No  Sun  Dinner     4  22.445532  19.785943"
      ]
     },
     "execution_count": 8,
     "metadata": {},
     "output_type": "execute_result"
    }
   ],
   "source": [
    "tips['baseline'] = tips.total_bill.mean()\n",
    "tips.head()"
   ]
  },
  {
   "cell_type": "code",
   "execution_count": 9,
   "metadata": {},
   "outputs": [
    {
     "data": {
      "text/plain": [
       "Text(0.5, 1.0, 'Baseline and OLS regression model')"
      ]
     },
     "execution_count": 9,
     "metadata": {},
     "output_type": "execute_result"
    },
    {
     "data": {
      "image/png": "[encoded data removed]",
      "text/plain": [
       "<Figure size 720x432 with 1 Axes>"
      ]
     },
     "metadata": {
      "needs_background": "light"
     },
     "output_type": "display_data"
    }
   ],
   "source": [
    "plt.figure(figsize = (10,6))\n",
    "sns.scatterplot(x='tip',y='total_bill',data=tips, palette='rocket', hue='size')\n",
    "plt.axhline(tips.total_bill.mean(), ls = ':', color='black')\n",
    "plt.xlabel('x = tip amount')\n",
    "plt.ylabel('y = total bill amount')\n",
    "plt.title('Baseline and OLS regression model')"
   ]
  },
  {
   "cell_type": "code",
   "execution_count": 10,
   "metadata": {},
   "outputs": [
    {
     "data": {
      "text/plain": [
       "Text(0.5, 1.0, 'Baseline and OLS regression model')"
      ]
     },
     "execution_count": 10,
     "metadata": {},
     "output_type": "execute_result"
    },
    {
     "data": {
      "image/png": "[encoded data removed]",
      "text/plain": [
       "<Figure size 720x432 with 1 Axes>"
      ]
     },
     "metadata": {
      "needs_background": "light"
     },
     "output_type": "display_data"
    }
   ],
   "source": [
    "plt.figure(figsize = (10,6))\n",
    "sns.scatterplot(x='tip',y='total_bill',data=tips, palette='rocket', hue='size')\n",
    "plt.axhline(y = total_bill.mean(), ls = ':', color='black', linewidth=4)\n",
    "plt.plot(tips.tip, tips.yhat, color='black')\n",
    "plt.xlabel('x = tip amount')\n",
    "plt.ylabel('y = total bill amount')\n",
    "plt.title('Baseline and OLS regression model')"
   ]
  },
  {
   "cell_type": "markdown",
   "metadata": {},
   "source": [
    "3. Plot the residuals for the linear regression model that you made.\n",
    "\n"
   ]
  },
  {
   "cell_type": "code",
   "execution_count": 11,
   "metadata": {},
   "outputs": [
    {
     "data": {
      "text/html": [
       "<div>\n",
       "<style scoped>\n",
       "    .dataframe tbody tr th:only-of-type {\n",
       "        vertical-align: middle;\n",
       "    }\n",
       "\n",
       "    .dataframe tbody tr th {\n",
       "        vertical-align: top;\n",
       "    }\n",
       "\n",
       "    .dataframe thead th {\n",
       "        text-align: right;\n",
       "    }\n",
       "</style>\n",
       "<table border=\"1\" class=\"dataframe\">\n",
       "  <thead>\n",
       "    <tr style=\"text-align: right;\">\n",
       "      <th></th>\n",
       "      <th>total_bill</th>\n",
       "      <th>tip</th>\n",
       "      <th>sex</th>\n",
       "      <th>smoker</th>\n",
       "      <th>day</th>\n",
       "      <th>time</th>\n",
       "      <th>size</th>\n",
       "      <th>yhat</th>\n",
       "      <th>baseline</th>\n",
       "      <th>residual</th>\n",
       "      <th>baseline_residual</th>\n",
       "    </tr>\n",
       "  </thead>\n",
       "  <tbody>\n",
       "    <tr>\n",
       "      <th>1</th>\n",
       "      <td>16.99</td>\n",
       "      <td>1.01</td>\n",
       "      <td>Female</td>\n",
       "      <td>No</td>\n",
       "      <td>Sun</td>\n",
       "      <td>Dinner</td>\n",
       "      <td>2</td>\n",
       "      <td>11.141475</td>\n",
       "      <td>19.785943</td>\n",
       "      <td>5.848525</td>\n",
       "      <td>-2.795943</td>\n",
       "    </tr>\n",
       "    <tr>\n",
       "      <th>2</th>\n",
       "      <td>10.34</td>\n",
       "      <td>1.66</td>\n",
       "      <td>Male</td>\n",
       "      <td>No</td>\n",
       "      <td>Sun</td>\n",
       "      <td>Dinner</td>\n",
       "      <td>3</td>\n",
       "      <td>13.967489</td>\n",
       "      <td>19.785943</td>\n",
       "      <td>-3.627489</td>\n",
       "      <td>-9.445943</td>\n",
       "    </tr>\n",
       "    <tr>\n",
       "      <th>3</th>\n",
       "      <td>21.01</td>\n",
       "      <td>3.50</td>\n",
       "      <td>Male</td>\n",
       "      <td>No</td>\n",
       "      <td>Sun</td>\n",
       "      <td>Dinner</td>\n",
       "      <td>3</td>\n",
       "      <td>21.967283</td>\n",
       "      <td>19.785943</td>\n",
       "      <td>-0.957283</td>\n",
       "      <td>1.224057</td>\n",
       "    </tr>\n",
       "    <tr>\n",
       "      <th>4</th>\n",
       "      <td>23.68</td>\n",
       "      <td>3.31</td>\n",
       "      <td>Male</td>\n",
       "      <td>No</td>\n",
       "      <td>Sun</td>\n",
       "      <td>Dinner</td>\n",
       "      <td>2</td>\n",
       "      <td>21.141218</td>\n",
       "      <td>19.785943</td>\n",
       "      <td>2.538782</td>\n",
       "      <td>3.894057</td>\n",
       "    </tr>\n",
       "    <tr>\n",
       "      <th>5</th>\n",
       "      <td>24.59</td>\n",
       "      <td>3.61</td>\n",
       "      <td>Female</td>\n",
       "      <td>No</td>\n",
       "      <td>Sun</td>\n",
       "      <td>Dinner</td>\n",
       "      <td>4</td>\n",
       "      <td>22.445532</td>\n",
       "      <td>19.785943</td>\n",
       "      <td>2.144468</td>\n",
       "      <td>4.804057</td>\n",
       "    </tr>\n",
       "  </tbody>\n",
       "</table>\n",
       "</div>"
      ],
      "text/plain": [
       "   total_bill   tip     sex smoker  day    time  size       yhat   baseline  \\\n",
       "1       16.99  1.01  Female     No  Sun  Dinner     2  11.141475  19.785943   \n",
       "2       10.34  1.66    Male     No  Sun  Dinner     3  13.967489  19.785943   \n",
       "3       21.01  3.50    Male     No  Sun  Dinner     3  21.967283  19.785943   \n",
       "4       23.68  3.31    Male     No  Sun  Dinner     2  21.141218  19.785943   \n",
       "5       24.59  3.61  Female     No  Sun  Dinner     4  22.445532  19.785943   \n",
       "\n",
       "   residual  baseline_residual  \n",
       "1  5.848525          -2.795943  \n",
       "2 -3.627489          -9.445943  \n",
       "3 -0.957283           1.224057  \n",
       "4  2.538782           3.894057  \n",
       "5  2.144468           4.804057  "
      ]
     },
     "execution_count": 11,
     "metadata": {},
     "output_type": "execute_result"
    }
   ],
   "source": [
    "tips['residual'] = tips.total_bill - tips.yhat\n",
    "tips['baseline_residual'] = tips.total_bill - tips.baseline\n",
    "tips.head()"
   ]
  },
  {
   "cell_type": "code",
   "execution_count": 12,
   "metadata": {},
   "outputs": [
    {
     "data": {
      "text/plain": [
       "-9.450218385609332e-13"
      ]
     },
     "execution_count": 12,
     "metadata": {},
     "output_type": "execute_result"
    }
   ],
   "source": [
    "tips.residual.sum()"
   ]
  },
  {
   "cell_type": "code",
   "execution_count": 13,
   "metadata": {},
   "outputs": [
    {
     "data": {
      "text/plain": [
       "-1.0444978215673473e-12"
      ]
     },
     "execution_count": 13,
     "metadata": {},
     "output_type": "execute_result"
    }
   ],
   "source": [
    "tips.baseline_residual.sum()"
   ]
  },
  {
   "cell_type": "code",
   "execution_count": 14,
   "metadata": {},
   "outputs": [
    {
     "data": {
      "text/plain": [
       "Text(0.5, 1.0, 'Baseline Residuals')"
      ]
     },
     "execution_count": 14,
     "metadata": {},
     "output_type": "execute_result"
    },
    {
     "data": {
      "image/png": "[encoded data removed]",
      "text/plain": [
       "<Figure size 936x1800 with 2 Axes>"
      ]
     },
     "metadata": {
      "needs_background": "light"
     },
     "output_type": "display_data"
    }
   ],
   "source": [
    "plt.subplots(2, 1, figsize=(13,25), sharey=True)\n",
    "sns.set(style=\"darkgrid\")\n",
    "\n",
    "plt.subplot(2,1,1)\n",
    "sns.scatterplot(x='tip',y='residual',data=tips, palette='rocket', hue='size')\n",
    "plt.axhline(y = 0, ls = ':', color='black', linewidth=4)\n",
    "plt.title('Model Residuals',fontsize = 20)\n",
    "    \n",
    "plt.subplot(2,1,2)\n",
    "sns.scatterplot(x='tip',y='baseline_residual',data=tips,palette='rocket', hue='size')\n",
    "plt.axhline(y = 0, ls = ':', color='black', linewidth=4)\n",
    "plt.title('Baseline Residuals',fontsize = 20)"
   ]
  },
  {
   "cell_type": "markdown",
   "metadata": {},
   "source": [
    "4. Calculate the sum of squared errors, explained sum of squares, total sum of squares, mean squared error, and root mean squared error for your model.\n",
    "\n"
   ]
  },
  {
   "cell_type": "markdown",
   "metadata": {},
   "source": [
    "#### MAE"
   ]
  },
  {
   "cell_type": "code",
   "execution_count": 15,
   "metadata": {},
   "outputs": [],
   "source": [
    "# average of absolute values of residuals\n",
    "MAE = abs(tips.residual).sum()\n",
    "\n",
    "MAE_baseline = abs(tips.baseline_residual).sum()\n",
    "# my model is better than my baseline"
   ]
  },
  {
   "cell_type": "markdown",
   "metadata": {},
   "source": [
    "#### SSE"
   ]
  },
  {
   "cell_type": "code",
   "execution_count": 16,
   "metadata": {},
   "outputs": [
    {
     "data": {
      "text/html": [
       "<div>\n",
       "<style scoped>\n",
       "    .dataframe tbody tr th:only-of-type {\n",
       "        vertical-align: middle;\n",
       "    }\n",
       "\n",
       "    .dataframe tbody tr th {\n",
       "        vertical-align: top;\n",
       "    }\n",
       "\n",
       "    .dataframe thead th {\n",
       "        text-align: right;\n",
       "    }\n",
       "</style>\n",
       "<table border=\"1\" class=\"dataframe\">\n",
       "  <thead>\n",
       "    <tr style=\"text-align: right;\">\n",
       "      <th></th>\n",
       "      <th>total_bill</th>\n",
       "      <th>tip</th>\n",
       "      <th>sex</th>\n",
       "      <th>smoker</th>\n",
       "      <th>day</th>\n",
       "      <th>time</th>\n",
       "      <th>size</th>\n",
       "      <th>yhat</th>\n",
       "      <th>baseline</th>\n",
       "      <th>residual</th>\n",
       "      <th>baseline_residual</th>\n",
       "      <th>residual_sqr</th>\n",
       "      <th>baseline_residual_sqr</th>\n",
       "    </tr>\n",
       "  </thead>\n",
       "  <tbody>\n",
       "    <tr>\n",
       "      <th>1</th>\n",
       "      <td>16.99</td>\n",
       "      <td>1.01</td>\n",
       "      <td>Female</td>\n",
       "      <td>No</td>\n",
       "      <td>Sun</td>\n",
       "      <td>Dinner</td>\n",
       "      <td>2</td>\n",
       "      <td>11.141475</td>\n",
       "      <td>19.785943</td>\n",
       "      <td>5.848525</td>\n",
       "      <td>-2.795943</td>\n",
       "      <td>34.205243</td>\n",
       "      <td>7.817295</td>\n",
       "    </tr>\n",
       "    <tr>\n",
       "      <th>2</th>\n",
       "      <td>10.34</td>\n",
       "      <td>1.66</td>\n",
       "      <td>Male</td>\n",
       "      <td>No</td>\n",
       "      <td>Sun</td>\n",
       "      <td>Dinner</td>\n",
       "      <td>3</td>\n",
       "      <td>13.967489</td>\n",
       "      <td>19.785943</td>\n",
       "      <td>-3.627489</td>\n",
       "      <td>-9.445943</td>\n",
       "      <td>13.158679</td>\n",
       "      <td>89.225832</td>\n",
       "    </tr>\n",
       "    <tr>\n",
       "      <th>3</th>\n",
       "      <td>21.01</td>\n",
       "      <td>3.50</td>\n",
       "      <td>Male</td>\n",
       "      <td>No</td>\n",
       "      <td>Sun</td>\n",
       "      <td>Dinner</td>\n",
       "      <td>3</td>\n",
       "      <td>21.967283</td>\n",
       "      <td>19.785943</td>\n",
       "      <td>-0.957283</td>\n",
       "      <td>1.224057</td>\n",
       "      <td>0.916392</td>\n",
       "      <td>1.498316</td>\n",
       "    </tr>\n",
       "    <tr>\n",
       "      <th>4</th>\n",
       "      <td>23.68</td>\n",
       "      <td>3.31</td>\n",
       "      <td>Male</td>\n",
       "      <td>No</td>\n",
       "      <td>Sun</td>\n",
       "      <td>Dinner</td>\n",
       "      <td>2</td>\n",
       "      <td>21.141218</td>\n",
       "      <td>19.785943</td>\n",
       "      <td>2.538782</td>\n",
       "      <td>3.894057</td>\n",
       "      <td>6.445415</td>\n",
       "      <td>15.163683</td>\n",
       "    </tr>\n",
       "    <tr>\n",
       "      <th>5</th>\n",
       "      <td>24.59</td>\n",
       "      <td>3.61</td>\n",
       "      <td>Female</td>\n",
       "      <td>No</td>\n",
       "      <td>Sun</td>\n",
       "      <td>Dinner</td>\n",
       "      <td>4</td>\n",
       "      <td>22.445532</td>\n",
       "      <td>19.785943</td>\n",
       "      <td>2.144468</td>\n",
       "      <td>4.804057</td>\n",
       "      <td>4.598743</td>\n",
       "      <td>23.078967</td>\n",
       "    </tr>\n",
       "  </tbody>\n",
       "</table>\n",
       "</div>"
      ],
      "text/plain": [
       "   total_bill   tip     sex smoker  day    time  size       yhat   baseline  \\\n",
       "1       16.99  1.01  Female     No  Sun  Dinner     2  11.141475  19.785943   \n",
       "2       10.34  1.66    Male     No  Sun  Dinner     3  13.967489  19.785943   \n",
       "3       21.01  3.50    Male     No  Sun  Dinner     3  21.967283  19.785943   \n",
       "4       23.68  3.31    Male     No  Sun  Dinner     2  21.141218  19.785943   \n",
       "5       24.59  3.61  Female     No  Sun  Dinner     4  22.445532  19.785943   \n",
       "\n",
       "   residual  baseline_residual  residual_sqr  baseline_residual_sqr  \n",
       "1  5.848525          -2.795943     34.205243               7.817295  \n",
       "2 -3.627489          -9.445943     13.158679              89.225832  \n",
       "3 -0.957283           1.224057      0.916392               1.498316  \n",
       "4  2.538782           3.894057      6.445415              15.163683  \n",
       "5  2.144468           4.804057      4.598743              23.078967  "
      ]
     },
     "execution_count": 16,
     "metadata": {},
     "output_type": "execute_result"
    }
   ],
   "source": [
    "tips['residual_sqr'] = tips.residual ** 2\n",
    "tips['baseline_residual_sqr'] =  tips.baseline_residual ** 2\n",
    "tips.head()"
   ]
  },
  {
   "cell_type": "code",
   "execution_count": 17,
   "metadata": {},
   "outputs": [],
   "source": [
    "SSE = tips['residual_sqr'].sum()\n",
    "SSE_baseline =  tips['baseline_residual_sqr'].sum()"
   ]
  },
  {
   "cell_type": "markdown",
   "metadata": {},
   "source": [
    "#### MSE"
   ]
  },
  {
   "cell_type": "code",
   "execution_count": 18,
   "metadata": {},
   "outputs": [],
   "source": [
    "MSE = SSE / len(tips)\n",
    "MSE_baseline = SSE_baseline / len(tips)"
   ]
  },
  {
   "cell_type": "markdown",
   "metadata": {},
   "source": [
    "#### RMSE"
   ]
  },
  {
   "cell_type": "code",
   "execution_count": 19,
   "metadata": {},
   "outputs": [],
   "source": [
    "RMSE = sqrt(MSE)\n",
    "RMSE_baseline = sqrt(MSE_baseline)"
   ]
  },
  {
   "cell_type": "code",
   "execution_count": 20,
   "metadata": {},
   "outputs": [
    {
     "name": "stdout",
     "output_type": "stream",
     "text": [
      "My Mean Absoute Error Values are:\n",
      " \n",
      "MAE =  1152.4782140209504\n",
      "MAE Baseline =  1676.1433606557378\n",
      "----------------------------------------------\n",
      "My Sum of Square Error Values are:\n",
      " \n",
      "SSE =  10464.729955151068\n",
      "SSE Baseline =  19258.46408319672\n",
      "----------------------------------------------\n",
      "My Mean of Square Error Values are:\n",
      " \n",
      "MSE =  42.88823752111093\n",
      "MSE baseline =  78.92813148851114\n",
      "----------------------------------------------\n",
      "My Root Mean of Square Error Values are:\n",
      " \n",
      "RMSE =  6.548911170653556\n",
      "RMSE baseline =  8.884150577771132\n"
     ]
    }
   ],
   "source": [
    "print(\"My Mean Absoute Error Values are:\")\n",
    "print(\" \")\n",
    "print(\"MAE = \", MAE)\n",
    "print(\"MAE Baseline = \", MAE_baseline)\n",
    "print(\"----------------------------------------------\")\n",
    "print(\"My Sum of Square Error Values are:\")\n",
    "print(\" \")\n",
    "print(\"SSE = \", SSE)\n",
    "print(\"SSE Baseline = \", SSE_baseline)\n",
    "print(\"----------------------------------------------\")\n",
    "print(\"My Mean of Square Error Values are:\")\n",
    "print(\" \")\n",
    "print(\"MSE = \", MSE)\n",
    "print(\"MSE baseline = \", MSE_baseline)\n",
    "print(\"----------------------------------------------\")\n",
    "print(\"My Root Mean of Square Error Values are:\")\n",
    "print(\" \")\n",
    "print(\"RMSE = \", RMSE)\n",
    "print(\"RMSE baseline = \", RMSE_baseline)"
   ]
  },
  {
   "cell_type": "markdown",
   "metadata": {},
   "source": [
    "5. Calculate the sum of squared errors, mean squared error, and root mean squared error for the baseline model (i.e. a model that always predicts the average tip amount).\n",
    "\n",
    "\n"
   ]
  },
  {
   "cell_type": "markdown",
   "metadata": {},
   "source": [
    "#### MSE2"
   ]
  },
  {
   "cell_type": "code",
   "execution_count": 21,
   "metadata": {},
   "outputs": [],
   "source": [
    "MSE2 = mean_squared_error(tips.total_bill, tips.yhat)\n",
    "MSE2_baseline = mean_squared_error(tips.total_bill, tips.baseline)"
   ]
  },
  {
   "cell_type": "markdown",
   "metadata": {},
   "source": [
    "#### SSE2"
   ]
  },
  {
   "cell_type": "code",
   "execution_count": 22,
   "metadata": {},
   "outputs": [],
   "source": [
    "SSE2 = MSE2 * len(tips)\n",
    "SSE2_baseline = MSE2_baseline * len(tips)"
   ]
  },
  {
   "cell_type": "markdown",
   "metadata": {},
   "source": [
    "#### RMSE2"
   ]
  },
  {
   "cell_type": "code",
   "execution_count": 23,
   "metadata": {},
   "outputs": [],
   "source": [
    "RMSE2 = mean_squared_error(tips.total_bill, tips.yhat, squared = False)\n",
    "RMSE2_baseline = mean_squared_error(tips.total_bill, tips.baseline, squared = False)"
   ]
  },
  {
   "cell_type": "code",
   "execution_count": 24,
   "metadata": {},
   "outputs": [
    {
     "name": "stdout",
     "output_type": "stream",
     "text": [
      "My Sum of Square Error Values for Second Run are:\n",
      " \n",
      "SSE2 10464.729955151068\n",
      "SSE2 baseline 19258.46408319672\n",
      "----------------------------------------------\n",
      "My Mean of Square Error Values for Second Run are:\n",
      " \n",
      "MSE2 42.88823752111093\n",
      "MSE2 baseline 78.92813148851114\n",
      "----------------------------------------------\n",
      "My Root Mean of Square Error Values for Second Run are:\n",
      " \n",
      "RMSE2 6.548911170653556\n",
      "RMSE2 baseline 8.884150577771132\n"
     ]
    }
   ],
   "source": [
    "print(\"My Sum of Square Error Values for Second Run are:\")\n",
    "print(\" \")\n",
    "print(\"SSE2\", SSE2) \n",
    "print(\"SSE2 baseline\" ,SSE2_baseline) \n",
    "print(\"----------------------------------------------\")\n",
    "print(\"My Mean of Square Error Values for Second Run are:\")\n",
    "print(\" \")\n",
    "print(\"MSE2\", MSE2) \n",
    "print(\"MSE2 baseline\" ,MSE2_baseline)\n",
    "print(\"----------------------------------------------\")\n",
    "print(\"My Root Mean of Square Error Values for Second Run are:\")\n",
    "print(\" \")\n",
    "print(\"RMSE2\", RMSE2) \n",
    "print(\"RMSE2 baseline\" ,RMSE2_baseline)  "
   ]
  },
  {
   "cell_type": "code",
   "execution_count": 25,
   "metadata": {},
   "outputs": [
    {
     "data": {
      "text/plain": [
       "4.723271368938321"
      ]
     },
     "execution_count": 25,
     "metadata": {},
     "output_type": "execute_result"
    }
   ],
   "source": [
    "mean_absolute_error(tips.total_bill, tips.yhat)"
   ]
  },
  {
   "cell_type": "markdown",
   "metadata": {},
   "source": [
    "6. Write python code that compares the sum of squared errors for your model against the sum of squared errors for the baseline model and outputs whether or not your model performs better than the baseline model. (R square)\n",
    "\n"
   ]
  },
  {
   "cell_type": "code",
   "execution_count": 26,
   "metadata": {},
   "outputs": [],
   "source": [
    "TSS = SSE_baseline =  tips['baseline_residual_sqr'].sum()"
   ]
  },
  {
   "cell_type": "code",
   "execution_count": 27,
   "metadata": {},
   "outputs": [],
   "source": [
    "SSE = tips['residual_sqr'].sum()"
   ]
  },
  {
   "cell_type": "code",
   "execution_count": 28,
   "metadata": {},
   "outputs": [],
   "source": [
    "ESS = TSS - SSE"
   ]
  },
  {
   "cell_type": "code",
   "execution_count": 29,
   "metadata": {},
   "outputs": [],
   "source": [
    "R2 = ESS/TSS"
   ]
  },
  {
   "cell_type": "code",
   "execution_count": 30,
   "metadata": {},
   "outputs": [
    {
     "name": "stdout",
     "output_type": "stream",
     "text": [
      "My Total Sum of Square is:\n",
      " \n",
      "19258.46408319672\n",
      "----------------------------------------------\n",
      "My Sum of squared error is:\n",
      " \n",
      "10464.729955151068\n",
      "----------------------------------------------\n",
      "My Explained sum of squares is:\n",
      " \n",
      "8793.734128045651\n",
      "----------------------------------------------\n",
      "My Calculate R2 is:\n",
      " \n",
      "0.4566165863516763\n"
     ]
    }
   ],
   "source": [
    "print(\"My Total Sum of Square is:\")\n",
    "print(\" \")\n",
    "print(TSS) \n",
    "print(\"----------------------------------------------\")\n",
    "print(\"My Sum of squared error is:\")\n",
    "print(\" \")\n",
    "print(SSE) \n",
    "print(\"----------------------------------------------\")\n",
    "print(\"My Explained sum of squares is:\")\n",
    "print(\" \")\n",
    "print(ESS) \n",
    "print(\"----------------------------------------------\")\n",
    "print(\"My Calculate R2 is:\")\n",
    "print(\" \")\n",
    "print(R2) "
   ]
  },
  {
   "cell_type": "markdown",
   "metadata": {},
   "source": [
    "7. What is the amount of variance explained in your model?\n",
    "\n"
   ]
  },
  {
   "cell_type": "code",
   "execution_count": 31,
   "metadata": {},
   "outputs": [
    {
     "name": "stdout",
     "output_type": "stream",
     "text": [
      "Explained Variance =  0.457\n"
     ]
    }
   ],
   "source": [
    "# sklearn.metrics.explained_variance_score\n",
    "\n",
    "# sklearn.metrics.explained_variance_score\n",
    "\n",
    "evs = explained_variance_score(tips.total_bill, tips.yhat)\n",
    "print('Explained Variance = ', round(evs,3))"
   ]
  },
  {
   "cell_type": "markdown",
   "metadata": {},
   "source": [
    "8. Is your model significantly better than the baseline model?\n",
    "\n"
   ]
  },
  {
   "cell_type": "markdown",
   "metadata": {},
   "source": [
    "Not at all!!!"
   ]
  },
  {
   "cell_type": "markdown",
   "metadata": {},
   "source": [
    "9. Create a file named evaluate.py that contains the following functions.\n",
    "\n"
   ]
  },
  {
   "cell_type": "markdown",
   "metadata": {},
   "source": [
    "All done"
   ]
  },
  {
   "cell_type": "code",
   "execution_count": 32,
   "metadata": {},
   "outputs": [
    {
     "data": {
      "text/html": [
       "<div>\n",
       "<style scoped>\n",
       "    .dataframe tbody tr th:only-of-type {\n",
       "        vertical-align: middle;\n",
       "    }\n",
       "\n",
       "    .dataframe tbody tr th {\n",
       "        vertical-align: top;\n",
       "    }\n",
       "\n",
       "    .dataframe thead th {\n",
       "        text-align: right;\n",
       "    }\n",
       "</style>\n",
       "<table border=\"1\" class=\"dataframe\">\n",
       "  <thead>\n",
       "    <tr style=\"text-align: right;\">\n",
       "      <th></th>\n",
       "      <th>total_bill</th>\n",
       "      <th>tip</th>\n",
       "      <th>sex</th>\n",
       "      <th>smoker</th>\n",
       "      <th>day</th>\n",
       "      <th>time</th>\n",
       "      <th>size</th>\n",
       "      <th>yhat</th>\n",
       "      <th>baseline</th>\n",
       "      <th>residual</th>\n",
       "      <th>baseline_residual</th>\n",
       "      <th>residual_sqr</th>\n",
       "      <th>baseline_residual_sqr</th>\n",
       "    </tr>\n",
       "  </thead>\n",
       "  <tbody>\n",
       "    <tr>\n",
       "      <th>1</th>\n",
       "      <td>16.99</td>\n",
       "      <td>1.01</td>\n",
       "      <td>Female</td>\n",
       "      <td>No</td>\n",
       "      <td>Sun</td>\n",
       "      <td>Dinner</td>\n",
       "      <td>2</td>\n",
       "      <td>11.141475</td>\n",
       "      <td>19.785943</td>\n",
       "      <td>5.848525</td>\n",
       "      <td>-2.795943</td>\n",
       "      <td>34.205243</td>\n",
       "      <td>7.817295</td>\n",
       "    </tr>\n",
       "    <tr>\n",
       "      <th>2</th>\n",
       "      <td>10.34</td>\n",
       "      <td>1.66</td>\n",
       "      <td>Male</td>\n",
       "      <td>No</td>\n",
       "      <td>Sun</td>\n",
       "      <td>Dinner</td>\n",
       "      <td>3</td>\n",
       "      <td>13.967489</td>\n",
       "      <td>19.785943</td>\n",
       "      <td>-3.627489</td>\n",
       "      <td>-9.445943</td>\n",
       "      <td>13.158679</td>\n",
       "      <td>89.225832</td>\n",
       "    </tr>\n",
       "    <tr>\n",
       "      <th>3</th>\n",
       "      <td>21.01</td>\n",
       "      <td>3.50</td>\n",
       "      <td>Male</td>\n",
       "      <td>No</td>\n",
       "      <td>Sun</td>\n",
       "      <td>Dinner</td>\n",
       "      <td>3</td>\n",
       "      <td>21.967283</td>\n",
       "      <td>19.785943</td>\n",
       "      <td>-0.957283</td>\n",
       "      <td>1.224057</td>\n",
       "      <td>0.916392</td>\n",
       "      <td>1.498316</td>\n",
       "    </tr>\n",
       "    <tr>\n",
       "      <th>4</th>\n",
       "      <td>23.68</td>\n",
       "      <td>3.31</td>\n",
       "      <td>Male</td>\n",
       "      <td>No</td>\n",
       "      <td>Sun</td>\n",
       "      <td>Dinner</td>\n",
       "      <td>2</td>\n",
       "      <td>21.141218</td>\n",
       "      <td>19.785943</td>\n",
       "      <td>2.538782</td>\n",
       "      <td>3.894057</td>\n",
       "      <td>6.445415</td>\n",
       "      <td>15.163683</td>\n",
       "    </tr>\n",
       "    <tr>\n",
       "      <th>5</th>\n",
       "      <td>24.59</td>\n",
       "      <td>3.61</td>\n",
       "      <td>Female</td>\n",
       "      <td>No</td>\n",
       "      <td>Sun</td>\n",
       "      <td>Dinner</td>\n",
       "      <td>4</td>\n",
       "      <td>22.445532</td>\n",
       "      <td>19.785943</td>\n",
       "      <td>2.144468</td>\n",
       "      <td>4.804057</td>\n",
       "      <td>4.598743</td>\n",
       "      <td>23.078967</td>\n",
       "    </tr>\n",
       "  </tbody>\n",
       "</table>\n",
       "</div>"
      ],
      "text/plain": [
       "   total_bill   tip     sex smoker  day    time  size       yhat   baseline  \\\n",
       "1       16.99  1.01  Female     No  Sun  Dinner     2  11.141475  19.785943   \n",
       "2       10.34  1.66    Male     No  Sun  Dinner     3  13.967489  19.785943   \n",
       "3       21.01  3.50    Male     No  Sun  Dinner     3  21.967283  19.785943   \n",
       "4       23.68  3.31    Male     No  Sun  Dinner     2  21.141218  19.785943   \n",
       "5       24.59  3.61  Female     No  Sun  Dinner     4  22.445532  19.785943   \n",
       "\n",
       "   residual  baseline_residual  residual_sqr  baseline_residual_sqr  \n",
       "1  5.848525          -2.795943     34.205243               7.817295  \n",
       "2 -3.627489          -9.445943     13.158679              89.225832  \n",
       "3 -0.957283           1.224057      0.916392               1.498316  \n",
       "4  2.538782           3.894057      6.445415              15.163683  \n",
       "5  2.144468           4.804057      4.598743              23.078967  "
      ]
     },
     "execution_count": 32,
     "metadata": {},
     "output_type": "execute_result"
    }
   ],
   "source": [
    "def clean_tips():\n",
    "    '''Takes in tips database from pydataset\n",
    "    fit model\n",
    "    predict\n",
    "    add columns:\n",
    "        yhat\n",
    "        residual\n",
    "        baseline_residual'''\n",
    "    tips = data(\"tips\")\n",
    "    model = ols('total_bill ~ tip', data=tips).fit()\n",
    "    tips['yhat'] = model.predict(tips.tip)\n",
    "    yhat = tips.yhat\n",
    "    tips['residual'] = tips.total_bill - tips.yhat\n",
    "    tips['baseline_residual'] = tips.total_bill - tips.baseline\n",
    "    return tips\n",
    "tips.head()"
   ]
  },
  {
   "cell_type": "markdown",
   "metadata": {},
   "source": [
    "a. plot_residuals(y, yhat): creates a residual plot\n",
    "\n"
   ]
  },
  {
   "cell_type": "code",
   "execution_count": 33,
   "metadata": {},
   "outputs": [],
   "source": [
    "import evaluate"
   ]
  },
  {
   "cell_type": "code",
   "execution_count": 35,
   "metadata": {},
   "outputs": [
    {
     "ename": "AttributeError",
     "evalue": "'DataFrame' object has no attribute 'baseline'",
     "output_type": "error",
     "traceback": [
      "\u001b[0;31m--------------------\u001b[0m",
      "\u001b[0;31mAttributeError\u001b[0mTraceback (most recent call last)",
      "\u001b[0;32m<ipython-input-35-3b67958ac2d0>\u001b[0m in \u001b[0;36m<module>\u001b[0;34m\u001b[0m\n\u001b[1;32m     19\u001b[0m     \u001b[0mplt\u001b[0m\u001b[0;34m.\u001b[0m\u001b[0mtitle\u001b[0m\u001b[0;34m(\u001b[0m\u001b[0;34m'Baseline Residuals'\u001b[0m\u001b[0;34m,\u001b[0m\u001b[0mfontsize\u001b[0m \u001b[0;34m=\u001b[0m \u001b[0;36m20\u001b[0m\u001b[0;34m)\u001b[0m\u001b[0;34m\u001b[0m\u001b[0;34m\u001b[0m\u001b[0m\n\u001b[1;32m     20\u001b[0m \u001b[0;34m\u001b[0m\u001b[0m\n\u001b[0;32m---> 21\u001b[0;31m \u001b[0mplot_residuals\u001b[0m\u001b[0;34m(\u001b[0m\u001b[0;34m)\u001b[0m\u001b[0;34m\u001b[0m\u001b[0;34m\u001b[0m\u001b[0m\n\u001b[0m",
      "\u001b[0;32m<ipython-input-35-3b67958ac2d0>\u001b[0m in \u001b[0;36mplot_residuals\u001b[0;34m()\u001b[0m\n\u001b[1;32m      7\u001b[0m     \u001b[0myhat\u001b[0m \u001b[0;34m=\u001b[0m \u001b[0mtips\u001b[0m\u001b[0;34m.\u001b[0m\u001b[0myhat\u001b[0m\u001b[0;34m\u001b[0m\u001b[0;34m\u001b[0m\u001b[0m\n\u001b[1;32m      8\u001b[0m     \u001b[0mtips\u001b[0m\u001b[0;34m[\u001b[0m\u001b[0;34m'residual'\u001b[0m\u001b[0;34m]\u001b[0m \u001b[0;34m=\u001b[0m \u001b[0mtips\u001b[0m\u001b[0;34m.\u001b[0m\u001b[0mtotal_bill\u001b[0m \u001b[0;34m-\u001b[0m \u001b[0mtips\u001b[0m\u001b[0;34m.\u001b[0m\u001b[0myhat\u001b[0m\u001b[0;34m\u001b[0m\u001b[0;34m\u001b[0m\u001b[0m\n\u001b[0;32m----> 9\u001b[0;31m     \u001b[0mtips\u001b[0m\u001b[0;34m[\u001b[0m\u001b[0;34m'baseline_residual'\u001b[0m\u001b[0;34m]\u001b[0m \u001b[0;34m=\u001b[0m \u001b[0mtips\u001b[0m\u001b[0;34m.\u001b[0m\u001b[0mtotal_bill\u001b[0m \u001b[0;34m-\u001b[0m \u001b[0mtips\u001b[0m\u001b[0;34m.\u001b[0m\u001b[0mbaseline\u001b[0m\u001b[0;34m\u001b[0m\u001b[0;34m\u001b[0m\u001b[0m\n\u001b[0m\u001b[1;32m     10\u001b[0m     \u001b[0mplt\u001b[0m\u001b[0;34m.\u001b[0m\u001b[0msubplots\u001b[0m\u001b[0;34m(\u001b[0m\u001b[0;36m2\u001b[0m\u001b[0;34m,\u001b[0m \u001b[0;36m1\u001b[0m\u001b[0;34m,\u001b[0m \u001b[0mfigsize\u001b[0m\u001b[0;34m=\u001b[0m\u001b[0;34m(\u001b[0m\u001b[0;36m13\u001b[0m\u001b[0;34m,\u001b[0m\u001b[0;36m25\u001b[0m\u001b[0;34m)\u001b[0m\u001b[0;34m,\u001b[0m \u001b[0msharey\u001b[0m\u001b[0;34m=\u001b[0m\u001b[0;32mTrue\u001b[0m\u001b[0;34m)\u001b[0m\u001b[0;34m\u001b[0m\u001b[0;34m\u001b[0m\u001b[0m\n\u001b[1;32m     11\u001b[0m     \u001b[0msns\u001b[0m\u001b[0;34m.\u001b[0m\u001b[0mset\u001b[0m\u001b[0;34m(\u001b[0m\u001b[0mstyle\u001b[0m\u001b[0;34m=\u001b[0m\u001b[0;34m\"darkgrid\"\u001b[0m\u001b[0;34m)\u001b[0m\u001b[0;34m\u001b[0m\u001b[0;34m\u001b[0m\u001b[0m\n",
      "\u001b[0;32m/usr/local/anaconda3/lib/python3.8/site-packages/pandas/core/generic.py\u001b[0m in \u001b[0;36m__getattr__\u001b[0;34m(self, name)\u001b[0m\n\u001b[1;32m   5137\u001b[0m             \u001b[0;32mif\u001b[0m \u001b[0mself\u001b[0m\u001b[0;34m.\u001b[0m\u001b[0m_info_axis\u001b[0m\u001b[0;34m.\u001b[0m\u001b[0m_can_hold_identifiers_and_holds_name\u001b[0m\u001b[0;34m(\u001b[0m\u001b[0mname\u001b[0m\u001b[0;34m)\u001b[0m\u001b[0;34m:\u001b[0m\u001b[0;34m\u001b[0m\u001b[0;34m\u001b[0m\u001b[0m\n\u001b[1;32m   5138\u001b[0m                 \u001b[0;32mreturn\u001b[0m \u001b[0mself\u001b[0m\u001b[0;34m[\u001b[0m\u001b[0mname\u001b[0m\u001b[0;34m]\u001b[0m\u001b[0;34m\u001b[0m\u001b[0;34m\u001b[0m\u001b[0m\n\u001b[0;32m-> 5139\u001b[0;31m             \u001b[0;32mreturn\u001b[0m \u001b[0mobject\u001b[0m\u001b[0;34m.\u001b[0m\u001b[0m__getattribute__\u001b[0m\u001b[0;34m(\u001b[0m\u001b[0mself\u001b[0m\u001b[0;34m,\u001b[0m \u001b[0mname\u001b[0m\u001b[0;34m)\u001b[0m\u001b[0;34m\u001b[0m\u001b[0;34m\u001b[0m\u001b[0m\n\u001b[0m\u001b[1;32m   5140\u001b[0m \u001b[0;34m\u001b[0m\u001b[0m\n\u001b[1;32m   5141\u001b[0m     \u001b[0;32mdef\u001b[0m \u001b[0m__setattr__\u001b[0m\u001b[0;34m(\u001b[0m\u001b[0mself\u001b[0m\u001b[0;34m,\u001b[0m \u001b[0mname\u001b[0m\u001b[0;34m:\u001b[0m \u001b[0mstr\u001b[0m\u001b[0;34m,\u001b[0m \u001b[0mvalue\u001b[0m\u001b[0;34m)\u001b[0m \u001b[0;34m->\u001b[0m \u001b[0;32mNone\u001b[0m\u001b[0;34m:\u001b[0m\u001b[0;34m\u001b[0m\u001b[0;34m\u001b[0m\u001b[0m\n",
      "\u001b[0;31mAttributeError\u001b[0m: 'DataFrame' object has no attribute 'baseline'"
     ]
    }
   ],
   "source": [
    "def plot_residuals():\n",
    "    ''' plot residual scatterplot\n",
    "    plot baseline residual scatterplots'''\n",
    "    tips = data(\"tips\")\n",
    "    model = ols('total_bill ~ tip', data=tips).fit()\n",
    "    tips['yhat'] = model.predict(tips.tip)\n",
    "    yhat = tips.yhat\n",
    "    tips['baseline'] = tips.total_bill.mean()\n",
    "    tips['residual'] = tips.total_bill - tips.yhat\n",
    "    tips['baseline_residual'] = tips.total_bill - tips.baseline\n",
    "    plt.subplots(2, 1, figsize=(13,25), sharey=True)\n",
    "    sns.set(style=\"darkgrid\")\n",
    "    plt.subplot(2,1,1)\n",
    "    sns.scatterplot(x='tip',y='residual',data=tips, palette='rocket', hue='size')\n",
    "    plt.axhline(y = 0, ls = ':', color='black', linewidth=4)\n",
    "    plt.title('Model Residuals',fontsize = 20)\n",
    "    plt.subplot(2,1,2)\n",
    "    sns.scatterplot(x='tip',y='baseline_residual',data=tips,palette='rocket', hue='size')\n",
    "    plt.axhline(y = 0, ls = ':', color='black', linewidth=4)\n",
    "    plt.title('Baseline Residuals',fontsize = 20)\n",
    "    \n",
    "plot_residuals()"
   ]
  },
  {
   "cell_type": "markdown",
   "metadata": {},
   "source": [
    "b. regression_errors(y, yhat): returns the following values:\n",
    "\n"
   ]
  },
  {
   "cell_type": "code",
   "execution_count": null,
   "metadata": {},
   "outputs": [],
   "source": []
  },
  {
   "cell_type": "markdown",
   "metadata": {},
   "source": [
    "- sum of squared errors (SSE)\n"
   ]
  },
  {
   "cell_type": "code",
   "execution_count": null,
   "metadata": {},
   "outputs": [],
   "source": []
  },
  {
   "cell_type": "markdown",
   "metadata": {},
   "source": [
    "- explained sum of squares (ESS)\n"
   ]
  },
  {
   "cell_type": "code",
   "execution_count": null,
   "metadata": {},
   "outputs": [],
   "source": []
  },
  {
   "cell_type": "markdown",
   "metadata": {},
   "source": [
    "- total sum of squares (TSS)\n"
   ]
  },
  {
   "cell_type": "code",
   "execution_count": null,
   "metadata": {},
   "outputs": [],
   "source": []
  },
  {
   "cell_type": "markdown",
   "metadata": {},
   "source": [
    "- mean squared error (MSE)\n"
   ]
  },
  {
   "cell_type": "code",
   "execution_count": null,
   "metadata": {},
   "outputs": [],
   "source": []
  },
  {
   "cell_type": "markdown",
   "metadata": {},
   "source": [
    "- root mean squared error (RMSE)\n",
    "\n"
   ]
  },
  {
   "cell_type": "code",
   "execution_count": null,
   "metadata": {},
   "outputs": [],
   "source": []
  },
  {
   "cell_type": "markdown",
   "metadata": {},
   "source": [
    "c. baseline_mean_errors(y): computes the SSE, MSE, and RMSE for the baseline model\n",
    "\n"
   ]
  },
  {
   "cell_type": "code",
   "execution_count": null,
   "metadata": {},
   "outputs": [],
   "source": []
  },
  {
   "cell_type": "markdown",
   "metadata": {},
   "source": [
    "d. better_than_baseline(y, yhat): returns true if your model performs better than the baseline, otherwise false\n",
    "\n"
   ]
  },
  {
   "cell_type": "code",
   "execution_count": null,
   "metadata": {},
   "outputs": [],
   "source": []
  },
  {
   "cell_type": "markdown",
   "metadata": {},
   "source": [
    "e. model_significance(ols_model): that takes the ols model as input and returns the amount of variance explained in your model, and the value telling you whether your model is significantly better than the baseline model (Hint: use the rsquared and f_pvalue properties from the ols model)"
   ]
  },
  {
   "cell_type": "code",
   "execution_count": null,
   "metadata": {},
   "outputs": [],
   "source": []
  },
  {
   "cell_type": "markdown",
   "metadata": {},
   "source": [
    "10. Load the mpg dataset and fit a model that predicts highway mileage based on engine displacement. Take a look at all the regression evaluation metrics, and determine whether this model is better than the baseline model. Use the functions from your evaluate.py to help accomplish this."
   ]
  }
 ],
 "metadata": {
  "kernelspec": {
   "display_name": "Python 3",
   "language": "python",
   "name": "python3"
  },
  "language_info": {
   "codemirror_mode": {
    "name": "ipython",
    "version": 3
   },
   "file_extension": ".py",
   "mimetype": "text/x-python",
   "name": "python",
   "nbconvert_exporter": "python",
   "pygments_lexer": "ipython3",
   "version": "3.8.5"
  }
 },
 "nbformat": 4,
 "nbformat_minor": 4
}
